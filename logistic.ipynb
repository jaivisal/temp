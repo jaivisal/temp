{
 "cells": [
  {
   "cell_type": "code",
   "execution_count": 15,
   "metadata": {},
   "outputs": [
    {
     "name": "stdout",
     "output_type": "stream",
     "text": [
      "Shape of X_train:  (8, 614)\n",
      "Shape of Y_train:  (1, 614)\n",
      "Shape of X_test:  (8, 154)\n",
      "Shape of Y_test:  (1, 154)\n",
      "Cost after 0 iterations: 0.6931471605599454\n",
      "Cost after 10000 iterations: 0.4680494102747583\n",
      "Cost after 20000 iterations: 0.46801525027667273\n",
      "Cost after 30000 iterations: 0.4680151899060321\n",
      "Cost after 40000 iterations: 0.46801518977098056\n",
      "Cost after 50000 iterations: 0.4680151897706403\n",
      "Cost after 60000 iterations: 0.46801518977063883\n",
      "Cost after 70000 iterations: 0.4680151897706389\n",
      "Cost after 80000 iterations: 0.4680151897706389\n",
      "Cost after 90000 iterations: 0.4680151897706389\n"
     ]
    },
    {
     "data": {
      "image/png": "[encoded data removed]",
      "text/plain": [
       "<Figure size 640x480 with 1 Axes>"
      ]
     },
     "metadata": {},
     "output_type": "display_data"
    },
    {
     "name": "stdout",
     "output_type": "stream",
     "text": [
      "Accuracy of the model is: 75.32 %\n"
     ]
    }
   ],
   "source": [
    "import numpy as np\n",
    "import pandas as pd\n",
    "import matplotlib.pyplot as plt\n",
    "from sklearn.model_selection import train_test_split\n",
    "from sklearn.preprocessing import StandardScaler\n",
    "\n",
    "# Load the dataset\n",
    "data = pd.read_csv(\"DIABETICS DATASET.csv\")\n",
    "\n",
    "# Extract features (X) and labels (Y)\n",
    "X = data.drop(\"Outcome\", axis=1).values\n",
    "Y = data[\"Outcome\"].values\n",
    "\n",
    "# Perform the train-test split (80% training, 20% testing)\n",
    "X_train, X_test, Y_train, Y_test = train_test_split(X, Y, test_size=0.2, random_state=42)\n",
    "\n",
    "# Standardize features by removing the mean and scaling to unit variance\n",
    "scaler = StandardScaler()\n",
    "X_train = scaler.fit_transform(X_train).T\n",
    "X_test = scaler.transform(X_test).T\n",
    "\n",
    "Y_train = Y_train.reshape(1, X_train.shape[1])\n",
    "Y_test = Y_test.reshape(1, X_test.shape[1])\n",
    "\n",
    "print(\"Shape of X_train: \", X_train.shape)\n",
    "print(\"Shape of Y_train: \", Y_train.shape)\n",
    "print(\"Shape of X_test: \", X_test.shape)\n",
    "print(\"Shape of Y_test: \", Y_test.shape)\n",
    "\n",
    "# Define the sigmoid function\n",
    "def sigmoid(x):\n",
    "    return 1 / (1 + np.exp(-x))\n",
    "\n",
    "# Define the logistic regression model with L2 regularization\n",
    "def model(X, Y, learning_rate, iterations, lambda_reg):\n",
    "    m = X.shape[1]\n",
    "    n = X.shape[0]\n",
    "    W = np.zeros((n, 1))\n",
    "    B = 0\n",
    "    cost_list = []\n",
    "    \n",
    "    for i in range(iterations):\n",
    "        Z = np.dot(W.T, X) + B\n",
    "        A = sigmoid(Z)\n",
    "        \n",
    "        # Cost function with L2 regularization\n",
    "        cost = -(1/m) * np.sum(Y * np.log(A + 1e-8) + (1-Y) * np.log(1-A + 1e-8)) + (lambda_reg/(2*m)) * np.sum(np.square(W))\n",
    "        \n",
    "        # Gradient Descent with L2 regularization\n",
    "        dW = (1/m) * np.dot(A-Y, X.T) + (lambda_reg/m) * W.T\n",
    "        dB = (1/m) * np.sum(A - Y)\n",
    "        \n",
    "        W = W - learning_rate * dW.T\n",
    "        B = B - learning_rate * dB\n",
    "        \n",
    "        # Keep track of the cost function value\n",
    "        cost_list.append(cost)\n",
    "        if i % (iterations/10) == 0:\n",
    "            print(\"Cost after\", i, \"iterations:\", cost)\n",
    "    \n",
    "    return W, B, cost_list\n",
    "\n",
    "# Train the model using the training set\n",
    "iterations = 100000\n",
    "learning_rate = 0.005  # Lowered the learning rate for stability\n",
    "lambda_reg = 0.1  # Adding a small regularization term\n",
    "W, B, cost_list = model(X_train, Y_train, learning_rate, iterations, lambda_reg)\n",
    "\n",
    "# Plot the cost function to see if it decreases\n",
    "plt.plot(np.arange(iterations), cost_list)\n",
    "plt.xlabel(\"Iterations\")\n",
    "plt.ylabel(\"Cost\")\n",
    "plt.title(\"Cost vs Iterations\")\n",
    "plt.show()\n",
    "\n",
    "# Define the accuracy function\n",
    "def accuracy(X, Y, W, B):\n",
    "    Z = np.dot(W.T, X) + B\n",
    "    A = sigmoid(Z)\n",
    "    A = A > 0.5\n",
    "    A = np.array(A, dtype='int64')\n",
    "    acc = (1 - np.sum(np.abs(A - Y)) / Y.shape[1]) * 100\n",
    "    print(\"Accuracy of the model is:\", round(acc, 2), \"%\")\n",
    "\n",
    "# Test the model accuracy using the test set\n",
    "accuracy(X_test, Y_test, W, B)\n"
   ]
  }
 ],
 "metadata": {
  "kernelspec": {
   "display_name": "Python 3",
   "language": "python",
   "name": "python3"
  },
  "language_info": {
   "codemirror_mode": {
    "name": "ipython",
    "version": 3
   },
   "file_extension": ".py",
   "mimetype": "text/x-python",
   "name": "python",
   "nbconvert_exporter": "python",
   "pygments_lexer": "ipython3",
   "version": "3.12.5"
  }
 },
 "nbformat": 4,
 "nbformat_minor": 2
}
